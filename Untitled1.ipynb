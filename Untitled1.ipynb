{
 "cells": [
  {
   "cell_type": "code",
   "execution_count": 1,
   "metadata": {},
   "outputs": [],
   "source": [
    "for i range (3003030030):\n",
    "    print(i)"
   ]
  },
  {
   "cell_type": "code",
   "execution_count": 2,
   "metadata": {},
   "outputs": [],
   "source": [
    "b = 3 + 3"
   ]
  },
  {
   "cell_type": "code",
   "execution_count": 4,
   "metadata": {},
   "outputs": [
    {
     "name": "stdout",
     "output_type": "stream",
     "text": [
      "5 6\n",
      "5 6\n",
      "5 6\n",
      "5 6\n",
      "5 6\n",
      "5 6\n",
      "5 6\n",
      "5 6\n",
      "5 6\n",
      "5 6\n",
      "5 6\n",
      "5 6\n",
      "5 6\n",
      "5 6\n",
      "5 6\n",
      "5 6\n",
      "5 6\n",
      "5 6\n",
      "5 6\n",
      "5 6\n",
      "5 6\n",
      "5 6\n",
      "5 6\n",
      "5 6\n",
      "5 6\n",
      "5 6\n",
      "5 6\n",
      "5 6\n",
      "5 6\n",
      "5 6\n"
     ]
    }
   ],
   "source": [
    "for i in range(30):\n",
    "    print(a, b)"
   ]
  },
  {
   "cell_type": "markdown",
   "metadata": {},
   "source": [
    "# Time is "
   ]
  },
  {
   "cell_type": "code",
   "execution_count": null,
   "metadata": {},
   "outputs": [],
   "source": []
  }
 ],
 "metadata": {
  "kernelspec": {
   "display_name": "Python 3",
   "language": "python",
   "name": "python3"
  },
  "language_info": {
   "codemirror_mode": {
    "name": "ipython",
    "version": 3
   },
   "file_extension": ".py",
   "mimetype": "text/x-python",
   "name": "python",
   "nbconvert_exporter": "python",
   "pygments_lexer": "ipython3",
   "version": "3.8.5"
  }
 },
 "nbformat": 4,
 "nbformat_minor": 4
}
