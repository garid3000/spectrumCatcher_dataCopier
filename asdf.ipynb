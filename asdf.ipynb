{
 "cells": [
  {
   "cell_type": "code",
   "execution_count": 1,
   "metadata": {},
   "outputs": [],
   "source": [
    "import matplotlib.pyplot as plt\n",
    "from matplotlib import rc\n",
    "\n",
    "import numpy as np"
   ]
  },
  {
   "cell_type": "code",
   "execution_count": 2,
   "metadata": {},
   "outputs": [
    {
     "data": {
      "image/png": "[encoded data removed]",
      "text/plain": [
       "<Figure size 432x288 with 1 Axes>"
      ]
     },
     "metadata": {
      "needs_background": "light"
     },
     "output_type": "display_data"
    }
   ],
   "source": [
    "def imager(str_eq):\n",
    "    \n",
    "    rc('text', usetex=True)\n",
    "    rc('font', family='serif')\n",
    "\n",
    "\n",
    "    plt.text(0,0.15, str_eq, fontsize=46)\n",
    "    plt.axis('off')\n",
    "#     plt.ylim(0,)\n",
    "\n",
    "    plt.show()\n",
    "eqsample = r\"\\begin{eqnarray*}R_L&= 0\\\\ V_2&= 1\\\\ I_2&= 2\\end{eqnarray*}\"\n",
    "# r'{0}'.format(s)\n",
    "\n",
    "# imager(eqsample)\\cdot\n",
    "# imager(r'\\[\\frac{ \\sum_{i=0}^{9}{\\left(Re(i)\\right)}}{n} \\]')\n",
    "# imager(r'{\\overline{\\mathrm{Re}(\\lambda\\in[' + r'{},{}'.format(48,56) + r'])}}')\n",
    "#\\frac{1}{\\lambda} \\cdot \\sum_{\\lambda \\in [420,480]}{Re(\\lambda)}\n",
    "# imager(r'$\\overline{\\mathrm{Re}(\\lambda\\in[' + r'{},{}'.format(48,56) + r'])}$')\n",
    "imager( r'\\[\\mathrm{ave}_{\\lambda\\in[' + r'{},{}'.format(323, 334) + r']}(\\mathrm{Re}(\\lambda))\\]')\n",
    "# imager(r'{\\overline{\\mathrm{Re}(\\lambda\\in[48,56])}}$')"
   ]
  },
  {
   "cell_type": "code",
   "execution_count": 3,
   "metadata": {},
   "outputs": [],
   "source": [
    "eqin = \"(2*mean[420,480]- mean[490, 780])/( max[666,700] + sin(mean[490,780]) + (tan(mean[500,600]))/(sin(min[650,700])))\""
   ]
  },
  {
   "cell_type": "code",
   "execution_count": 4,
   "metadata": {},
   "outputs": [
    {
     "data": {
      "text/plain": [
       "'(2*mean[420,480]-mean[490,780])/(max[666,700]+sin(mean[490,780])+(tan(mean[500,600]))/(sin(min[650,700])))'"
      ]
     },
     "execution_count": 4,
     "metadata": {},
     "output_type": "execute_result"
    }
   ],
   "source": [
    "#first remove the all spaces:\n",
    "eqin_nospace = eqin.replace(\" \", \"\")\n",
    "eqin_nospace"
   ]
  },
  {
   "cell_type": "code",
   "execution_count": 5,
   "metadata": {},
   "outputs": [
    {
     "name": "stdout",
     "output_type": "stream",
     "text": [
      "\\*|\\+|\\/|\\-|\\(|\\) \n",
      " ['', '2', 'mean[420,480]', 'mean[490,780]', '', '', 'max[666,700]', 'sin', 'mean[490,780]', '', '', 'tan', 'mean[500,600]', '', '', '', 'sin', 'min[650,700]', '', '', '']\n"
     ]
    }
   ],
   "source": [
    "#then split it with multiple delimeters\n",
    "import re\n",
    "regexPattern = '|'.join(map(re.escape, ['*','+','/','-','(',')']))\n",
    "eq_var_n_cons = re.split(regexPattern, eqin_nospace)\n",
    "\n",
    "print(regexPattern, '\\n', eq_var_n_cons)"
   ]
  },
  {
   "cell_type": "code",
   "execution_count": 6,
   "metadata": {},
   "outputs": [],
   "source": [
    "def checkVariableLegit(s):\n",
    "    keyword = ''\n",
    "    if \"mean\" in s:\n",
    "        keyword = 'm'\n",
    "    elif \"max\" in s:\n",
    "        keyword = 'x'\n",
    "    elif \"min\" in s:\n",
    "        keyword = 'n'\n",
    "    else:\n",
    "        return False\n",
    "\n",
    "    if len(re.findall(\"\\d+\", s)) == 2:\n",
    "        return True\n",
    "    else:\n",
    "        return False\n"
   ]
  },
  {
   "cell_type": "code",
   "execution_count": 7,
   "metadata": {
    "scrolled": false
   },
   "outputs": [],
   "source": [
    "# constant = {}\n",
    "# variable = {}\n",
    "\n",
    "# varCount = 0\n",
    "# for element in eq_var_n_cons:\n",
    "#     if element == '':\n",
    "#         continue\n",
    "#     try:\n",
    "#         tmp = float(element)\n",
    "#         constant[element] = tmp\n",
    "#     except:\n",
    "#         if checkVariableLegit(element):\n",
    "#             if not (element in variable.values()): \n",
    "#                 varName = \"var\" + str(varCount)\n",
    "#                 variable[varName] = element\n",
    "#                 varCount+=1\n",
    "#         else:\n",
    "#             print(\"error\")\n",
    "# print(constant)\n",
    "# print(variable)"
   ]
  },
  {
   "cell_type": "code",
   "execution_count": 8,
   "metadata": {},
   "outputs": [],
   "source": [
    "# #replace the equation with semivar\n",
    "# proto_eq = eqin_nospace\n",
    "# for i in range(len(variable)):\n",
    "#     proto_eq = proto_eq.replace(list(variable.values())[i], list(variable.keys())[i])\n",
    "# print(proto_eq)"
   ]
  },
  {
   "cell_type": "code",
   "execution_count": 106,
   "metadata": {},
   "outputs": [
    {
     "name": "stderr",
     "output_type": "stream",
     "text": [
      "/usr/local/lib/python3.6/dist-packages/ipykernel/__main__.py:11: RuntimeWarning: divide by zero encountered in true_divide\n",
      "/usr/local/lib/python3.6/dist-packages/ipykernel/__main__.py:11: RuntimeWarning: invalid value encountered in true_divide\n"
     ]
    }
   ],
   "source": [
    "import pandas as pd\n",
    "s = '/home/garid/myGithub/gimbalSoft_wl/0706/2019-12-21/11h_ザルディbad/20191221_111801_crop.csv'\n",
    "import pandas as pd\n",
    "\n",
    "# dat = np.array(pd.read_csv(s))\n",
    "# pd.read_csv(s)\n",
    "\n",
    "readData = np.array(pd.read_csv(s))\n",
    "calcRef = np.zeros((readData.shape[0], 2))\n",
    "calcRef[:,0] = readData[:,1]\n",
    "calcRef[:,1] = (readData[:,2] - 16) / (readData[:,4] - 16)\n",
    "\n",
    "class written_var():\n",
    "    def __init__(self, s, varAbbre):\n",
    "        self.full = s\n",
    "        self.legit = True\n",
    "        self.keyword = ''\n",
    "        if \"mean\" in s:\n",
    "            self.keyword = 'm'\n",
    "        elif \"max\" in s:\n",
    "            self.keyword = 'x'\n",
    "        elif \"min\" in s:\n",
    "            self.keyword = 'n'\n",
    "        else:\n",
    "            self.legit = False\n",
    "\n",
    "        self.startWL = 0\n",
    "        self.end__WL = 0\n",
    "        if len(re.findall(\"\\d+\", s)) == 2:\n",
    "            try:\n",
    "                self.startWL, self.end__WL = [int(s) for s in re.findall(\"\\d+\", s)]\n",
    "            except:\n",
    "                self.legit = False\n",
    "        else:\n",
    "            self.legit = False\n",
    "        self.varName = varAbbre\n",
    "        self.varNameLatex = 'var_{' + (varAbbre[3:]) + '}'\n",
    "        \n",
    "        self.val = self.Value()\n",
    "        self.latex = self.Latex()\n",
    "    def Value(self):\n",
    "        index = np.logical_and(calcRef[:,0] >= self.startWL, calcRef[:,0] <= self.end__WL) \n",
    "        if self.keyword == 'm':\n",
    "            return  np.mean(calcRef[index,1])\n",
    "         \n",
    "        if self.keyword == 'x':\n",
    "            return  np.max(calcRef[index,1])\n",
    "         \n",
    "        if self.keyword == 'n':\n",
    "            return  np.min(calcRef[index,1])\n",
    "    \n",
    "    def Mean(self):\n",
    "        \n",
    "        \n",
    "        return 0\n",
    "    \n",
    "    def Latex(self):\n",
    "        tmp = r''\n",
    "        if self.keyword == 'm':\n",
    "            tmp = r'\\mathrm{ave('\n",
    "#             tmp = r'\\mathrm{mean}_{\\lambda\\in['+ r'{},{}'.format(self.startWL, self.end__WL) + r']} \\left({Ref(\\lambda)} \\right )'\n",
    "        if self.keyword == 'x':\n",
    "            tmp = r'\\mathrm{max('\n",
    "#             tmp = r'\\max_{\\lambda\\in['+ r'{},{}'.format(self.startWL, self.end__WL) + r']}\\left({Ref(\\lambda)} \\right )'\n",
    "#             tmp = r'\\max_{\\lambda\\in[' + r'{},{}'.format(self.startWL, self.end__WL) + r']}(\\mathrm{Re}(\\lambda))'\n",
    "        if self.keyword =='n':\n",
    "            tmp = r'\\mathrm{min('#             tmp = r'\\min_{\\lambda\\in['+ r'{},{}'.format(self.startWL, self.end__WL) + r']}\\left(' + r']}{Ref(\\lambda)} \\right )'\n",
    "\n",
    "#             tmp = r'\\min_{\\lambda\\in[' + r'{},{}'.format(self.startWL, self.end__WL) + r']}(\\mathrm{Re}(\\lambda))'\n",
    "        \n",
    "        return tmp + r'{},{}'.format(self.startWL, self.end__WL) + r')}'\n",
    "    \n",
    "    \n"
   ]
  },
  {
   "cell_type": "code",
   "execution_count": 107,
   "metadata": {},
   "outputs": [
    {
     "name": "stdout",
     "output_type": "stream",
     "text": [
      "{'2': 2.0}\n",
      "[('mean[420,480]', 'var0', 0.027752822392059995, 0.027752822392059995), ('mean[490,780]', 'var1', 0.13362812863557139, 0.13362812863557139), ('max[666,700]', 'var2', 0.13593654115322687, 0.13593654115322687), ('mean[500,600]', 'var3', 0.06435459487830664, 0.06435459487830664), ('min[650,700]', 'var4', 0.03813451699906871, 0.03813451699906871)]\n"
     ]
    }
   ],
   "source": [
    "constant = {}\n",
    "variable = []\n",
    "\n",
    "varCount = 0\n",
    "for element in eq_var_n_cons:\n",
    "#     print(element)\n",
    "    if element == '':\n",
    "        continue\n",
    "    try:\n",
    "        tmp = float(element)\n",
    "        constant[element] = tmp\n",
    "    except:\n",
    "        varName = \"var\" + str(varCount)\n",
    "        tmp = written_var(element, varName)\n",
    "        if tmp.legit:\n",
    "            if any([element == s.full for s in variable]) == False:\n",
    "                variable.append(tmp)\n",
    "                varCount += 1\n",
    "        elif element in ['sin', 'cos', 'tan']:\n",
    "            pass\n",
    "        else:\n",
    "            print('err')\n",
    "print(constant)\n",
    "print([(s.full, s.varName, s.val, s.val) for s in variable])"
   ]
  },
  {
   "cell_type": "code",
   "execution_count": 108,
   "metadata": {},
   "outputs": [],
   "source": [
    "# np.mean(calcRef[np.logical_and(calcRef[:,0] >= 301, calcRef[:,0] <= 450), 1 ])\n",
    "# calcRef[np.logical_and(calcRef[:,0] >= 301, calcRef[:,0] <= 450), 1 ]"
   ]
  },
  {
   "cell_type": "code",
   "execution_count": 109,
   "metadata": {},
   "outputs": [
    {
     "name": "stdout",
     "output_type": "stream",
     "text": [
      "(2*0.027752822392059995-0.13362812863557139)/(0.13593654115322687+sin(0.13362812863557139)+(tan(0.06435459487830664))/(sin(0.03813451699906871)))\n",
      "-0.039869014719551045\n"
     ]
    }
   ],
   "source": [
    "# #replace the equation with semivar\n",
    "proto_eq = eqin_nospace\n",
    "for i in range(len(variable)):\n",
    "    proto_eq = proto_eq.replace(variable[i].full,str(variable[i].val))\n",
    "print(proto_eq)\n",
    "print(eval(proto_eq))"
   ]
  },
  {
   "cell_type": "code",
   "execution_count": 110,
   "metadata": {},
   "outputs": [
    {
     "name": "stdout",
     "output_type": "stream",
     "text": [
      "(2\\cdot\\mathrm{ave(420,480)}-\\mathrm{ave(490,780)})/(\\mathrm{max(666,700)}+\\sin(\\mathrm{ave(490,780)})+(\\tan(\\mathrm{ave(500,600)}))/(\\sin(\\mathrm{min(650,700)})))\n"
     ]
    }
   ],
   "source": [
    "# #replace the equation with semivar REVERSУ\n",
    "proto_eq = eqin_nospace\n",
    "for i in range(len(variable)):\n",
    "    proto_eq = proto_eq.replace(variable[i].full,str(variable[i].varName))\n",
    "proto_eq_variablename = proto_eq\n",
    "for i in range(len(variable)):\n",
    "    proto_eq = proto_eq.replace(r'{}'.format(variable[i].varName), r'{}'.format(variable[i].latex))\n",
    "    \n",
    "proto_eq = proto_eq.replace(r'*', r'\\cdot')\n",
    "proto_eq = proto_eq.replace(r'sin', r'\\sin')\n",
    "proto_eq = proto_eq.replace(r'cos', r'\\cos')\n",
    "proto_eq = proto_eq.replace(r'tan', r'\\tan')\n",
    "print(proto_eq)"
   ]
  },
  {
   "cell_type": "code",
   "execution_count": 111,
   "metadata": {},
   "outputs": [
    {
     "name": "stdout",
     "output_type": "stream",
     "text": [
      "( [0] []\n",
      "2 [0] []\n",
      "\\ [0] []\n",
      "c [0] []\n",
      "d [0] []\n",
      "o [0] []\n",
      "t [0] []\n",
      "\\ [0] []\n",
      "m [0] []\n",
      "a [0] []\n",
      "t [0] []\n",
      "h [0] []\n",
      "r [0] []\n",
      "m [0] []\n",
      "{ [0] []\n",
      "a [0] []\n",
      "v [0] []\n",
      "e [0] []\n",
      "( [0, 18] []\n",
      "4 [0, 18] []\n",
      "2 [0, 18] []\n",
      "0 [0, 18] []\n",
      ", [0, 18] []\n",
      "4 [0, 18] []\n",
      "8 [0, 18] []\n",
      "0 [0, 18] []\n",
      ") [0] [[18, 26]]\n",
      "} [0] [[18, 26]]\n",
      "- [0] [[18, 26]]\n",
      "\\ [0] [[18, 26]]\n",
      "m [0] [[18, 26]]\n",
      "a [0] [[18, 26]]\n",
      "t [0] [[18, 26]]\n",
      "h [0] [[18, 26]]\n",
      "r [0] [[18, 26]]\n",
      "m [0] [[18, 26]]\n",
      "{ [0] [[18, 26]]\n",
      "a [0] [[18, 26]]\n",
      "v [0] [[18, 26]]\n",
      "e [0] [[18, 26]]\n",
      "( [0, 40] [[18, 26]]\n",
      "4 [0, 40] [[18, 26]]\n",
      "9 [0, 40] [[18, 26]]\n",
      "0 [0, 40] [[18, 26]]\n",
      ", [0, 40] [[18, 26]]\n",
      "7 [0, 40] [[18, 26]]\n",
      "8 [0, 40] [[18, 26]]\n",
      "0 [0, 40] [[18, 26]]\n",
      ") [0] [[18, 26], [40, 48]]\n",
      "} [0] [[18, 26], [40, 48]]\n",
      ") [] [[18, 26], [40, 48], [0, 50]]\n",
      "/ [] [[18, 26], [40, 48], [0, 50]]\n",
      "( [52] [[18, 26], [40, 48], [0, 50]]\n",
      "\\ [52] [[18, 26], [40, 48], [0, 50]]\n",
      "m [52] [[18, 26], [40, 48], [0, 50]]\n",
      "a [52] [[18, 26], [40, 48], [0, 50]]\n",
      "t [52] [[18, 26], [40, 48], [0, 50]]\n",
      "h [52] [[18, 26], [40, 48], [0, 50]]\n",
      "r [52] [[18, 26], [40, 48], [0, 50]]\n",
      "m [52] [[18, 26], [40, 48], [0, 50]]\n",
      "{ [52] [[18, 26], [40, 48], [0, 50]]\n",
      "m [52] [[18, 26], [40, 48], [0, 50]]\n",
      "a [52] [[18, 26], [40, 48], [0, 50]]\n",
      "x [52] [[18, 26], [40, 48], [0, 50]]\n",
      "( [52, 64] [[18, 26], [40, 48], [0, 50]]\n",
      "6 [52, 64] [[18, 26], [40, 48], [0, 50]]\n",
      "6 [52, 64] [[18, 26], [40, 48], [0, 50]]\n",
      "6 [52, 64] [[18, 26], [40, 48], [0, 50]]\n",
      ", [52, 64] [[18, 26], [40, 48], [0, 50]]\n",
      "7 [52, 64] [[18, 26], [40, 48], [0, 50]]\n",
      "0 [52, 64] [[18, 26], [40, 48], [0, 50]]\n",
      "0 [52, 64] [[18, 26], [40, 48], [0, 50]]\n",
      ") [52] [[18, 26], [40, 48], [0, 50], [64, 72]]\n",
      "} [52] [[18, 26], [40, 48], [0, 50], [64, 72]]\n",
      "+ [52] [[18, 26], [40, 48], [0, 50], [64, 72]]\n",
      "\\ [52] [[18, 26], [40, 48], [0, 50], [64, 72]]\n",
      "s [52] [[18, 26], [40, 48], [0, 50], [64, 72]]\n",
      "i [52] [[18, 26], [40, 48], [0, 50], [64, 72]]\n",
      "n [52] [[18, 26], [40, 48], [0, 50], [64, 72]]\n",
      "( [52, 79] [[18, 26], [40, 48], [0, 50], [64, 72]]\n",
      "\\ [52, 79] [[18, 26], [40, 48], [0, 50], [64, 72]]\n",
      "m [52, 79] [[18, 26], [40, 48], [0, 50], [64, 72]]\n",
      "a [52, 79] [[18, 26], [40, 48], [0, 50], [64, 72]]\n",
      "t [52, 79] [[18, 26], [40, 48], [0, 50], [64, 72]]\n",
      "h [52, 79] [[18, 26], [40, 48], [0, 50], [64, 72]]\n",
      "r [52, 79] [[18, 26], [40, 48], [0, 50], [64, 72]]\n",
      "m [52, 79] [[18, 26], [40, 48], [0, 50], [64, 72]]\n",
      "{ [52, 79] [[18, 26], [40, 48], [0, 50], [64, 72]]\n",
      "a [52, 79] [[18, 26], [40, 48], [0, 50], [64, 72]]\n",
      "v [52, 79] [[18, 26], [40, 48], [0, 50], [64, 72]]\n",
      "e [52, 79] [[18, 26], [40, 48], [0, 50], [64, 72]]\n",
      "( [52, 79, 91] [[18, 26], [40, 48], [0, 50], [64, 72]]\n",
      "4 [52, 79, 91] [[18, 26], [40, 48], [0, 50], [64, 72]]\n",
      "9 [52, 79, 91] [[18, 26], [40, 48], [0, 50], [64, 72]]\n",
      "0 [52, 79, 91] [[18, 26], [40, 48], [0, 50], [64, 72]]\n",
      ", [52, 79, 91] [[18, 26], [40, 48], [0, 50], [64, 72]]\n",
      "7 [52, 79, 91] [[18, 26], [40, 48], [0, 50], [64, 72]]\n",
      "8 [52, 79, 91] [[18, 26], [40, 48], [0, 50], [64, 72]]\n",
      "0 [52, 79, 91] [[18, 26], [40, 48], [0, 50], [64, 72]]\n",
      ") [52, 79] [[18, 26], [40, 48], [0, 50], [64, 72], [91, 99]]\n",
      "} [52, 79] [[18, 26], [40, 48], [0, 50], [64, 72], [91, 99]]\n",
      ") [52] [[18, 26], [40, 48], [0, 50], [64, 72], [91, 99], [79, 101]]\n",
      "+ [52] [[18, 26], [40, 48], [0, 50], [64, 72], [91, 99], [79, 101]]\n",
      "( [52, 103] [[18, 26], [40, 48], [0, 50], [64, 72], [91, 99], [79, 101]]\n",
      "\\ [52, 103] [[18, 26], [40, 48], [0, 50], [64, 72], [91, 99], [79, 101]]\n",
      "t [52, 103] [[18, 26], [40, 48], [0, 50], [64, 72], [91, 99], [79, 101]]\n",
      "a [52, 103] [[18, 26], [40, 48], [0, 50], [64, 72], [91, 99], [79, 101]]\n",
      "n [52, 103] [[18, 26], [40, 48], [0, 50], [64, 72], [91, 99], [79, 101]]\n",
      "( [52, 103, 108] [[18, 26], [40, 48], [0, 50], [64, 72], [91, 99], [79, 101]]\n",
      "\\ [52, 103, 108] [[18, 26], [40, 48], [0, 50], [64, 72], [91, 99], [79, 101]]\n",
      "m [52, 103, 108] [[18, 26], [40, 48], [0, 50], [64, 72], [91, 99], [79, 101]]\n",
      "a [52, 103, 108] [[18, 26], [40, 48], [0, 50], [64, 72], [91, 99], [79, 101]]\n",
      "t [52, 103, 108] [[18, 26], [40, 48], [0, 50], [64, 72], [91, 99], [79, 101]]\n",
      "h [52, 103, 108] [[18, 26], [40, 48], [0, 50], [64, 72], [91, 99], [79, 101]]\n",
      "r [52, 103, 108] [[18, 26], [40, 48], [0, 50], [64, 72], [91, 99], [79, 101]]\n",
      "m [52, 103, 108] [[18, 26], [40, 48], [0, 50], [64, 72], [91, 99], [79, 101]]\n",
      "{ [52, 103, 108] [[18, 26], [40, 48], [0, 50], [64, 72], [91, 99], [79, 101]]\n",
      "a [52, 103, 108] [[18, 26], [40, 48], [0, 50], [64, 72], [91, 99], [79, 101]]\n",
      "v [52, 103, 108] [[18, 26], [40, 48], [0, 50], [64, 72], [91, 99], [79, 101]]\n",
      "e [52, 103, 108] [[18, 26], [40, 48], [0, 50], [64, 72], [91, 99], [79, 101]]\n",
      "( [52, 103, 108, 120] [[18, 26], [40, 48], [0, 50], [64, 72], [91, 99], [79, 101]]\n",
      "5 [52, 103, 108, 120] [[18, 26], [40, 48], [0, 50], [64, 72], [91, 99], [79, 101]]\n",
      "0 [52, 103, 108, 120] [[18, 26], [40, 48], [0, 50], [64, 72], [91, 99], [79, 101]]\n",
      "0 [52, 103, 108, 120] [[18, 26], [40, 48], [0, 50], [64, 72], [91, 99], [79, 101]]\n",
      ", [52, 103, 108, 120] [[18, 26], [40, 48], [0, 50], [64, 72], [91, 99], [79, 101]]\n",
      "6 [52, 103, 108, 120] [[18, 26], [40, 48], [0, 50], [64, 72], [91, 99], [79, 101]]\n",
      "0 [52, 103, 108, 120] [[18, 26], [40, 48], [0, 50], [64, 72], [91, 99], [79, 101]]\n",
      "0 [52, 103, 108, 120] [[18, 26], [40, 48], [0, 50], [64, 72], [91, 99], [79, 101]]\n",
      ") [52, 103, 108] [[18, 26], [40, 48], [0, 50], [64, 72], [91, 99], [79, 101], [120, 128]]\n",
      "} [52, 103, 108] [[18, 26], [40, 48], [0, 50], [64, 72], [91, 99], [79, 101], [120, 128]]\n",
      ") [52, 103] [[18, 26], [40, 48], [0, 50], [64, 72], [91, 99], [79, 101], [120, 128], [108, 130]]\n",
      ") [52] [[18, 26], [40, 48], [0, 50], [64, 72], [91, 99], [79, 101], [120, 128], [108, 130], [103, 131]]\n",
      "/ [52] [[18, 26], [40, 48], [0, 50], [64, 72], [91, 99], [79, 101], [120, 128], [108, 130], [103, 131]]\n",
      "( [52, 133] [[18, 26], [40, 48], [0, 50], [64, 72], [91, 99], [79, 101], [120, 128], [108, 130], [103, 131]]\n",
      "\\ [52, 133] [[18, 26], [40, 48], [0, 50], [64, 72], [91, 99], [79, 101], [120, 128], [108, 130], [103, 131]]\n",
      "s [52, 133] [[18, 26], [40, 48], [0, 50], [64, 72], [91, 99], [79, 101], [120, 128], [108, 130], [103, 131]]\n",
      "i [52, 133] [[18, 26], [40, 48], [0, 50], [64, 72], [91, 99], [79, 101], [120, 128], [108, 130], [103, 131]]\n",
      "n [52, 133] [[18, 26], [40, 48], [0, 50], [64, 72], [91, 99], [79, 101], [120, 128], [108, 130], [103, 131]]\n",
      "( [52, 133, 138] [[18, 26], [40, 48], [0, 50], [64, 72], [91, 99], [79, 101], [120, 128], [108, 130], [103, 131]]\n",
      "\\ [52, 133, 138] [[18, 26], [40, 48], [0, 50], [64, 72], [91, 99], [79, 101], [120, 128], [108, 130], [103, 131]]\n",
      "m [52, 133, 138] [[18, 26], [40, 48], [0, 50], [64, 72], [91, 99], [79, 101], [120, 128], [108, 130], [103, 131]]\n",
      "a [52, 133, 138] [[18, 26], [40, 48], [0, 50], [64, 72], [91, 99], [79, 101], [120, 128], [108, 130], [103, 131]]\n",
      "t [52, 133, 138] [[18, 26], [40, 48], [0, 50], [64, 72], [91, 99], [79, 101], [120, 128], [108, 130], [103, 131]]\n",
      "h [52, 133, 138] [[18, 26], [40, 48], [0, 50], [64, 72], [91, 99], [79, 101], [120, 128], [108, 130], [103, 131]]\n",
      "r [52, 133, 138] [[18, 26], [40, 48], [0, 50], [64, 72], [91, 99], [79, 101], [120, 128], [108, 130], [103, 131]]\n",
      "m [52, 133, 138] [[18, 26], [40, 48], [0, 50], [64, 72], [91, 99], [79, 101], [120, 128], [108, 130], [103, 131]]\n",
      "{ [52, 133, 138] [[18, 26], [40, 48], [0, 50], [64, 72], [91, 99], [79, 101], [120, 128], [108, 130], [103, 131]]\n",
      "m [52, 133, 138] [[18, 26], [40, 48], [0, 50], [64, 72], [91, 99], [79, 101], [120, 128], [108, 130], [103, 131]]\n",
      "i [52, 133, 138] [[18, 26], [40, 48], [0, 50], [64, 72], [91, 99], [79, 101], [120, 128], [108, 130], [103, 131]]\n",
      "n [52, 133, 138] [[18, 26], [40, 48], [0, 50], [64, 72], [91, 99], [79, 101], [120, 128], [108, 130], [103, 131]]\n",
      "( [52, 133, 138, 150] [[18, 26], [40, 48], [0, 50], [64, 72], [91, 99], [79, 101], [120, 128], [108, 130], [103, 131]]\n",
      "6 [52, 133, 138, 150] [[18, 26], [40, 48], [0, 50], [64, 72], [91, 99], [79, 101], [120, 128], [108, 130], [103, 131]]\n",
      "5 [52, 133, 138, 150] [[18, 26], [40, 48], [0, 50], [64, 72], [91, 99], [79, 101], [120, 128], [108, 130], [103, 131]]\n",
      "0 [52, 133, 138, 150] [[18, 26], [40, 48], [0, 50], [64, 72], [91, 99], [79, 101], [120, 128], [108, 130], [103, 131]]\n",
      ", [52, 133, 138, 150] [[18, 26], [40, 48], [0, 50], [64, 72], [91, 99], [79, 101], [120, 128], [108, 130], [103, 131]]\n",
      "7 [52, 133, 138, 150] [[18, 26], [40, 48], [0, 50], [64, 72], [91, 99], [79, 101], [120, 128], [108, 130], [103, 131]]\n",
      "0 [52, 133, 138, 150] [[18, 26], [40, 48], [0, 50], [64, 72], [91, 99], [79, 101], [120, 128], [108, 130], [103, 131]]\n",
      "0 [52, 133, 138, 150] [[18, 26], [40, 48], [0, 50], [64, 72], [91, 99], [79, 101], [120, 128], [108, 130], [103, 131]]\n",
      ") [52, 133, 138] [[18, 26], [40, 48], [0, 50], [64, 72], [91, 99], [79, 101], [120, 128], [108, 130], [103, 131], [150, 158]]\n",
      "} [52, 133, 138] [[18, 26], [40, 48], [0, 50], [64, 72], [91, 99], [79, 101], [120, 128], [108, 130], [103, 131], [150, 158]]\n",
      ") [52, 133] [[18, 26], [40, 48], [0, 50], [64, 72], [91, 99], [79, 101], [120, 128], [108, 130], [103, 131], [150, 158], [138, 160]]\n",
      ") [52] [[18, 26], [40, 48], [0, 50], [64, 72], [91, 99], [79, 101], [120, 128], [108, 130], [103, 131], [150, 158], [138, 160], [133, 161]]\n",
      ") [] [[18, 26], [40, 48], [0, 50], [64, 72], [91, 99], [79, 101], [120, 128], [108, 130], [103, 131], [150, 158], [138, 160], [133, 161], [52, 162]]\n",
      "51\n",
      "\n",
      "\n",
      "\n",
      " \\frac{(2\\cdot\\mathrm{ave(420,480)}-\\mathrm{ave(490,780)})}{(\\mathrm{max(666,700)}+\\sin(\\mathrm{ave(490,780)})+(\\tan(\\mathrm{ave(500,600)}))/(\\sin(\\mathrm{min(650,700)})))} \n",
      "\n",
      "\n",
      "\n",
      "\\ [] []\n",
      "f [] []\n",
      "r [] []\n",
      "a [] []\n",
      "c [] []\n",
      "{ [] []\n",
      "( [6] []\n",
      "2 [6] []\n",
      "\\ [6] []\n",
      "c [6] []\n",
      "d [6] []\n",
      "o [6] []\n",
      "t [6] []\n",
      "\\ [6] []\n",
      "m [6] []\n",
      "a [6] []\n",
      "t [6] []\n",
      "h [6] []\n",
      "r [6] []\n",
      "m [6] []\n",
      "{ [6] []\n",
      "a [6] []\n",
      "v [6] []\n",
      "e [6] []\n",
      "( [6, 24] []\n",
      "4 [6, 24] []\n",
      "2 [6, 24] []\n",
      "0 [6, 24] []\n",
      ", [6, 24] []\n",
      "4 [6, 24] []\n",
      "8 [6, 24] []\n",
      "0 [6, 24] []\n",
      ") [6] [[24, 32]]\n",
      "} [6] [[24, 32]]\n",
      "- [6] [[24, 32]]\n",
      "\\ [6] [[24, 32]]\n",
      "m [6] [[24, 32]]\n",
      "a [6] [[24, 32]]\n",
      "t [6] [[24, 32]]\n",
      "h [6] [[24, 32]]\n",
      "r [6] [[24, 32]]\n",
      "m [6] [[24, 32]]\n",
      "{ [6] [[24, 32]]\n",
      "a [6] [[24, 32]]\n",
      "v [6] [[24, 32]]\n",
      "e [6] [[24, 32]]\n",
      "( [6, 46] [[24, 32]]\n",
      "4 [6, 46] [[24, 32]]\n",
      "9 [6, 46] [[24, 32]]\n",
      "0 [6, 46] [[24, 32]]\n",
      ", [6, 46] [[24, 32]]\n",
      "7 [6, 46] [[24, 32]]\n",
      "8 [6, 46] [[24, 32]]\n",
      "0 [6, 46] [[24, 32]]\n",
      ") [6] [[24, 32], [46, 54]]\n",
      "} [6] [[24, 32], [46, 54]]\n",
      ") [] [[24, 32], [46, 54], [6, 56]]\n",
      "} [] [[24, 32], [46, 54], [6, 56]]\n",
      "{ [] [[24, 32], [46, 54], [6, 56]]\n",
      "( [59] [[24, 32], [46, 54], [6, 56]]\n",
      "\\ [59] [[24, 32], [46, 54], [6, 56]]\n",
      "m [59] [[24, 32], [46, 54], [6, 56]]\n",
      "a [59] [[24, 32], [46, 54], [6, 56]]\n",
      "t [59] [[24, 32], [46, 54], [6, 56]]\n",
      "h [59] [[24, 32], [46, 54], [6, 56]]\n",
      "r [59] [[24, 32], [46, 54], [6, 56]]\n",
      "m [59] [[24, 32], [46, 54], [6, 56]]\n",
      "{ [59] [[24, 32], [46, 54], [6, 56]]\n",
      "m [59] [[24, 32], [46, 54], [6, 56]]\n",
      "a [59] [[24, 32], [46, 54], [6, 56]]\n",
      "x [59] [[24, 32], [46, 54], [6, 56]]\n",
      "( [59, 71] [[24, 32], [46, 54], [6, 56]]\n",
      "6 [59, 71] [[24, 32], [46, 54], [6, 56]]\n",
      "6 [59, 71] [[24, 32], [46, 54], [6, 56]]\n",
      "6 [59, 71] [[24, 32], [46, 54], [6, 56]]\n",
      ", [59, 71] [[24, 32], [46, 54], [6, 56]]\n",
      "7 [59, 71] [[24, 32], [46, 54], [6, 56]]\n",
      "0 [59, 71] [[24, 32], [46, 54], [6, 56]]\n",
      "0 [59, 71] [[24, 32], [46, 54], [6, 56]]\n",
      ") [59] [[24, 32], [46, 54], [6, 56], [71, 79]]\n",
      "} [59] [[24, 32], [46, 54], [6, 56], [71, 79]]\n",
      "+ [59] [[24, 32], [46, 54], [6, 56], [71, 79]]\n",
      "\\ [59] [[24, 32], [46, 54], [6, 56], [71, 79]]\n",
      "s [59] [[24, 32], [46, 54], [6, 56], [71, 79]]\n",
      "i [59] [[24, 32], [46, 54], [6, 56], [71, 79]]\n",
      "n [59] [[24, 32], [46, 54], [6, 56], [71, 79]]\n",
      "( [59, 86] [[24, 32], [46, 54], [6, 56], [71, 79]]\n",
      "\\ [59, 86] [[24, 32], [46, 54], [6, 56], [71, 79]]\n",
      "m [59, 86] [[24, 32], [46, 54], [6, 56], [71, 79]]\n",
      "a [59, 86] [[24, 32], [46, 54], [6, 56], [71, 79]]\n",
      "t [59, 86] [[24, 32], [46, 54], [6, 56], [71, 79]]\n",
      "h [59, 86] [[24, 32], [46, 54], [6, 56], [71, 79]]\n",
      "r [59, 86] [[24, 32], [46, 54], [6, 56], [71, 79]]\n",
      "m [59, 86] [[24, 32], [46, 54], [6, 56], [71, 79]]\n",
      "{ [59, 86] [[24, 32], [46, 54], [6, 56], [71, 79]]\n",
      "a [59, 86] [[24, 32], [46, 54], [6, 56], [71, 79]]\n",
      "v [59, 86] [[24, 32], [46, 54], [6, 56], [71, 79]]\n",
      "e [59, 86] [[24, 32], [46, 54], [6, 56], [71, 79]]\n",
      "( [59, 86, 98] [[24, 32], [46, 54], [6, 56], [71, 79]]\n",
      "4 [59, 86, 98] [[24, 32], [46, 54], [6, 56], [71, 79]]\n",
      "9 [59, 86, 98] [[24, 32], [46, 54], [6, 56], [71, 79]]\n",
      "0 [59, 86, 98] [[24, 32], [46, 54], [6, 56], [71, 79]]\n",
      ", [59, 86, 98] [[24, 32], [46, 54], [6, 56], [71, 79]]\n",
      "7 [59, 86, 98] [[24, 32], [46, 54], [6, 56], [71, 79]]\n",
      "8 [59, 86, 98] [[24, 32], [46, 54], [6, 56], [71, 79]]\n",
      "0 [59, 86, 98] [[24, 32], [46, 54], [6, 56], [71, 79]]\n",
      ") [59, 86] [[24, 32], [46, 54], [6, 56], [71, 79], [98, 106]]\n",
      "} [59, 86] [[24, 32], [46, 54], [6, 56], [71, 79], [98, 106]]\n",
      ") [59] [[24, 32], [46, 54], [6, 56], [71, 79], [98, 106], [86, 108]]\n",
      "+ [59] [[24, 32], [46, 54], [6, 56], [71, 79], [98, 106], [86, 108]]\n",
      "( [59, 110] [[24, 32], [46, 54], [6, 56], [71, 79], [98, 106], [86, 108]]\n",
      "\\ [59, 110] [[24, 32], [46, 54], [6, 56], [71, 79], [98, 106], [86, 108]]\n",
      "t [59, 110] [[24, 32], [46, 54], [6, 56], [71, 79], [98, 106], [86, 108]]\n",
      "a [59, 110] [[24, 32], [46, 54], [6, 56], [71, 79], [98, 106], [86, 108]]\n",
      "n [59, 110] [[24, 32], [46, 54], [6, 56], [71, 79], [98, 106], [86, 108]]\n",
      "( [59, 110, 115] [[24, 32], [46, 54], [6, 56], [71, 79], [98, 106], [86, 108]]\n",
      "\\ [59, 110, 115] [[24, 32], [46, 54], [6, 56], [71, 79], [98, 106], [86, 108]]\n",
      "m [59, 110, 115] [[24, 32], [46, 54], [6, 56], [71, 79], [98, 106], [86, 108]]\n",
      "a [59, 110, 115] [[24, 32], [46, 54], [6, 56], [71, 79], [98, 106], [86, 108]]\n",
      "t [59, 110, 115] [[24, 32], [46, 54], [6, 56], [71, 79], [98, 106], [86, 108]]\n",
      "h [59, 110, 115] [[24, 32], [46, 54], [6, 56], [71, 79], [98, 106], [86, 108]]\n",
      "r [59, 110, 115] [[24, 32], [46, 54], [6, 56], [71, 79], [98, 106], [86, 108]]\n",
      "m [59, 110, 115] [[24, 32], [46, 54], [6, 56], [71, 79], [98, 106], [86, 108]]\n",
      "{ [59, 110, 115] [[24, 32], [46, 54], [6, 56], [71, 79], [98, 106], [86, 108]]\n",
      "a [59, 110, 115] [[24, 32], [46, 54], [6, 56], [71, 79], [98, 106], [86, 108]]\n",
      "v [59, 110, 115] [[24, 32], [46, 54], [6, 56], [71, 79], [98, 106], [86, 108]]\n",
      "e [59, 110, 115] [[24, 32], [46, 54], [6, 56], [71, 79], [98, 106], [86, 108]]\n",
      "( [59, 110, 115, 127] [[24, 32], [46, 54], [6, 56], [71, 79], [98, 106], [86, 108]]\n",
      "5 [59, 110, 115, 127] [[24, 32], [46, 54], [6, 56], [71, 79], [98, 106], [86, 108]]\n",
      "0 [59, 110, 115, 127] [[24, 32], [46, 54], [6, 56], [71, 79], [98, 106], [86, 108]]\n",
      "0 [59, 110, 115, 127] [[24, 32], [46, 54], [6, 56], [71, 79], [98, 106], [86, 108]]\n",
      ", [59, 110, 115, 127] [[24, 32], [46, 54], [6, 56], [71, 79], [98, 106], [86, 108]]\n",
      "6 [59, 110, 115, 127] [[24, 32], [46, 54], [6, 56], [71, 79], [98, 106], [86, 108]]\n",
      "0 [59, 110, 115, 127] [[24, 32], [46, 54], [6, 56], [71, 79], [98, 106], [86, 108]]\n",
      "0 [59, 110, 115, 127] [[24, 32], [46, 54], [6, 56], [71, 79], [98, 106], [86, 108]]\n",
      ") [59, 110, 115] [[24, 32], [46, 54], [6, 56], [71, 79], [98, 106], [86, 108], [127, 135]]\n",
      "} [59, 110, 115] [[24, 32], [46, 54], [6, 56], [71, 79], [98, 106], [86, 108], [127, 135]]\n",
      ") [59, 110] [[24, 32], [46, 54], [6, 56], [71, 79], [98, 106], [86, 108], [127, 135], [115, 137]]\n",
      ") [59] [[24, 32], [46, 54], [6, 56], [71, 79], [98, 106], [86, 108], [127, 135], [115, 137], [110, 138]]\n",
      "/ [59] [[24, 32], [46, 54], [6, 56], [71, 79], [98, 106], [86, 108], [127, 135], [115, 137], [110, 138]]\n",
      "( [59, 140] [[24, 32], [46, 54], [6, 56], [71, 79], [98, 106], [86, 108], [127, 135], [115, 137], [110, 138]]\n",
      "\\ [59, 140] [[24, 32], [46, 54], [6, 56], [71, 79], [98, 106], [86, 108], [127, 135], [115, 137], [110, 138]]\n",
      "s [59, 140] [[24, 32], [46, 54], [6, 56], [71, 79], [98, 106], [86, 108], [127, 135], [115, 137], [110, 138]]\n",
      "i [59, 140] [[24, 32], [46, 54], [6, 56], [71, 79], [98, 106], [86, 108], [127, 135], [115, 137], [110, 138]]\n",
      "n [59, 140] [[24, 32], [46, 54], [6, 56], [71, 79], [98, 106], [86, 108], [127, 135], [115, 137], [110, 138]]\n",
      "( [59, 140, 145] [[24, 32], [46, 54], [6, 56], [71, 79], [98, 106], [86, 108], [127, 135], [115, 137], [110, 138]]\n",
      "\\ [59, 140, 145] [[24, 32], [46, 54], [6, 56], [71, 79], [98, 106], [86, 108], [127, 135], [115, 137], [110, 138]]\n",
      "m [59, 140, 145] [[24, 32], [46, 54], [6, 56], [71, 79], [98, 106], [86, 108], [127, 135], [115, 137], [110, 138]]\n",
      "a [59, 140, 145] [[24, 32], [46, 54], [6, 56], [71, 79], [98, 106], [86, 108], [127, 135], [115, 137], [110, 138]]\n",
      "t [59, 140, 145] [[24, 32], [46, 54], [6, 56], [71, 79], [98, 106], [86, 108], [127, 135], [115, 137], [110, 138]]\n",
      "h [59, 140, 145] [[24, 32], [46, 54], [6, 56], [71, 79], [98, 106], [86, 108], [127, 135], [115, 137], [110, 138]]\n",
      "r [59, 140, 145] [[24, 32], [46, 54], [6, 56], [71, 79], [98, 106], [86, 108], [127, 135], [115, 137], [110, 138]]\n",
      "m [59, 140, 145] [[24, 32], [46, 54], [6, 56], [71, 79], [98, 106], [86, 108], [127, 135], [115, 137], [110, 138]]\n",
      "{ [59, 140, 145] [[24, 32], [46, 54], [6, 56], [71, 79], [98, 106], [86, 108], [127, 135], [115, 137], [110, 138]]\n",
      "m [59, 140, 145] [[24, 32], [46, 54], [6, 56], [71, 79], [98, 106], [86, 108], [127, 135], [115, 137], [110, 138]]\n",
      "i [59, 140, 145] [[24, 32], [46, 54], [6, 56], [71, 79], [98, 106], [86, 108], [127, 135], [115, 137], [110, 138]]\n",
      "n [59, 140, 145] [[24, 32], [46, 54], [6, 56], [71, 79], [98, 106], [86, 108], [127, 135], [115, 137], [110, 138]]\n",
      "( [59, 140, 145, 157] [[24, 32], [46, 54], [6, 56], [71, 79], [98, 106], [86, 108], [127, 135], [115, 137], [110, 138]]\n",
      "6 [59, 140, 145, 157] [[24, 32], [46, 54], [6, 56], [71, 79], [98, 106], [86, 108], [127, 135], [115, 137], [110, 138]]\n",
      "5 [59, 140, 145, 157] [[24, 32], [46, 54], [6, 56], [71, 79], [98, 106], [86, 108], [127, 135], [115, 137], [110, 138]]\n",
      "0 [59, 140, 145, 157] [[24, 32], [46, 54], [6, 56], [71, 79], [98, 106], [86, 108], [127, 135], [115, 137], [110, 138]]\n",
      ", [59, 140, 145, 157] [[24, 32], [46, 54], [6, 56], [71, 79], [98, 106], [86, 108], [127, 135], [115, 137], [110, 138]]\n",
      "7 [59, 140, 145, 157] [[24, 32], [46, 54], [6, 56], [71, 79], [98, 106], [86, 108], [127, 135], [115, 137], [110, 138]]\n",
      "0 [59, 140, 145, 157] [[24, 32], [46, 54], [6, 56], [71, 79], [98, 106], [86, 108], [127, 135], [115, 137], [110, 138]]\n",
      "0 [59, 140, 145, 157] [[24, 32], [46, 54], [6, 56], [71, 79], [98, 106], [86, 108], [127, 135], [115, 137], [110, 138]]\n",
      ") [59, 140, 145] [[24, 32], [46, 54], [6, 56], [71, 79], [98, 106], [86, 108], [127, 135], [115, 137], [110, 138], [157, 165]]\n",
      "} [59, 140, 145] [[24, 32], [46, 54], [6, 56], [71, 79], [98, 106], [86, 108], [127, 135], [115, 137], [110, 138], [157, 165]]\n",
      ") [59, 140] [[24, 32], [46, 54], [6, 56], [71, 79], [98, 106], [86, 108], [127, 135], [115, 137], [110, 138], [157, 165], [145, 167]]\n",
      ") [59] [[24, 32], [46, 54], [6, 56], [71, 79], [98, 106], [86, 108], [127, 135], [115, 137], [110, 138], [157, 165], [145, 167], [140, 168]]\n",
      ") [] [[24, 32], [46, 54], [6, 56], [71, 79], [98, 106], [86, 108], [127, 135], [115, 137], [110, 138], [157, 165], [145, 167], [140, 168], [59, 169]]\n",
      "} [] [[24, 32], [46, 54], [6, 56], [71, 79], [98, 106], [86, 108], [127, 135], [115, 137], [110, 138], [157, 165], [145, 167], [140, 168], [59, 169]]\n",
      "139\n",
      "\n",
      "\n",
      "\n",
      " \\frac{(2\\cdot\\mathrm{ave(420,480)}-\\mathrm{ave(490,780)})}{(\\mathrm{max(666,700)}+\\sin(\\mathrm{ave(490,780)})+\\frac{(\\tan(\\mathrm{ave(500,600)}))}{(\\sin(\\mathrm{min(650,700)}))})} \n",
      "\n",
      "\n",
      "\n"
     ]
    },
    {
     "data": {
      "image/png": "[encoded data removed]",
      "text/plain": [
       "<Figure size 432x288 with 1 Axes>"
      ]
     },
     "metadata": {
      "needs_background": "light"
     },
     "output_type": "display_data"
    }
   ],
   "source": [
    "def bracketCoupler(_estr):\n",
    "    leftBrackets = []\n",
    "    coupleBrack = []\n",
    "    #     estr= proto_eq\n",
    "    for i in range(len(_estr)):\n",
    "        if _estr[i] == '(':\n",
    "            leftBrackets.append(i)\n",
    "        elif _estr[i] == ')':\n",
    "            coupleBrack.append([leftBrackets[-1], i])\n",
    "            leftBrackets.pop(-1)\n",
    "        print(_estr[i], leftBrackets, coupleBrack)\n",
    "    return coupleBrack\n",
    "\n",
    "def relaceOnce(_estr, coupleBrack):\n",
    "    outstr = ''\n",
    "    divisionPos=0\n",
    "    for i in range(len(_estr)):\n",
    "        if _estr[i] == r'/':\n",
    "            print(i)\n",
    "            topS, topE = 0, 0\n",
    "            botS, botE = 0, 0\n",
    "            divisionPos = i\n",
    "            for _s, _e in coupleBrack:\n",
    "                if _e + 1 == i:\n",
    "                    topS = _s\n",
    "                    topE = _e\n",
    "                if  _s - 1 == i:\n",
    "                    botS = _s\n",
    "                    botE = _e\n",
    "            break\n",
    "    outstr += _estr[:topS] + r'\\frac{' + _estr[topS:topE+1] + r'}{' +  _estr[botS:botE+1] + r'}' + _estr[botE+1:]\n",
    "    return outstr\n",
    "\n",
    "new_estr = proto_eq\n",
    "for i in range(proto_eq.count('/')):\n",
    "    new_brackets = bracketCoupler(new_estr)\n",
    "    new_estr = relaceOnce(new_estr, new_brackets)\n",
    "    print('\\n\\n\\n',new_estr ,'\\n\\n\\n')\n",
    "imager(r'\\['+ new_estr + r'\\]')"
   ]
  },
  {
   "cell_type": "code",
   "execution_count": 112,
   "metadata": {},
   "outputs": [],
   "source": [
    "import sympy"
   ]
  },
  {
   "cell_type": "code",
   "execution_count": 113,
   "metadata": {},
   "outputs": [
    {
     "data": {
      "text/plain": [
       "'(2*mean[420,480]- mean[490, 780])/( max[666,700] + sin(mean[490,780]) + (tan(mean[500,600]))/(sin(min[650,700])))'"
      ]
     },
     "execution_count": 113,
     "metadata": {},
     "output_type": "execute_result"
    }
   ],
   "source": [
    "sympy.latex(eqin)"
   ]
  },
  {
   "cell_type": "code",
   "execution_count": 114,
   "metadata": {},
   "outputs": [],
   "source": [
    "x = 0\n",
    "y = 2\n",
    "s = '1+2**(x+y)'"
   ]
  },
  {
   "cell_type": "code",
   "execution_count": 115,
   "metadata": {},
   "outputs": [
    {
     "ename": "TypeError",
     "evalue": "'Symbol' object is not subscriptable",
     "output_type": "error",
     "traceback": [
      "\u001b[0;31m---------------------------------------------------------------------------\u001b[0m",
      "\u001b[0;31mTypeError\u001b[0m                                 Traceback (most recent call last)",
      "\u001b[0;32m<ipython-input-115-b3ac35b085d2>\u001b[0m in \u001b[0;36m<module>\u001b[0;34m\u001b[0m\n\u001b[0;32m----> 1\u001b[0;31m \u001b[0msympy\u001b[0m\u001b[0;34m.\u001b[0m\u001b[0mlatex\u001b[0m\u001b[0;34m(\u001b[0m\u001b[0msympy\u001b[0m\u001b[0;34m.\u001b[0m\u001b[0msympify\u001b[0m\u001b[0;34m(\u001b[0m\u001b[0meqin\u001b[0m\u001b[0;34m)\u001b[0m\u001b[0;34m)\u001b[0m\u001b[0;34m\u001b[0m\u001b[0;34m\u001b[0m\u001b[0m\n\u001b[0m",
      "\u001b[0;32m/usr/local/lib/python3.6/dist-packages/sympy/core/sympify.py\u001b[0m in \u001b[0;36msympify\u001b[0;34m(a, locals, convert_xor, strict, rational, evaluate)\u001b[0m\n\u001b[1;32m    404\u001b[0m     \u001b[0;32mtry\u001b[0m\u001b[0;34m:\u001b[0m\u001b[0;34m\u001b[0m\u001b[0;34m\u001b[0m\u001b[0m\n\u001b[1;32m    405\u001b[0m         \u001b[0ma\u001b[0m \u001b[0;34m=\u001b[0m \u001b[0ma\u001b[0m\u001b[0;34m.\u001b[0m\u001b[0mreplace\u001b[0m\u001b[0;34m(\u001b[0m\u001b[0;34m'\\n'\u001b[0m\u001b[0;34m,\u001b[0m \u001b[0;34m''\u001b[0m\u001b[0;34m)\u001b[0m\u001b[0;34m\u001b[0m\u001b[0;34m\u001b[0m\u001b[0m\n\u001b[0;32m--> 406\u001b[0;31m         \u001b[0mexpr\u001b[0m \u001b[0;34m=\u001b[0m \u001b[0mparse_expr\u001b[0m\u001b[0;34m(\u001b[0m\u001b[0ma\u001b[0m\u001b[0;34m,\u001b[0m \u001b[0mlocal_dict\u001b[0m\u001b[0;34m=\u001b[0m\u001b[0mlocals\u001b[0m\u001b[0;34m,\u001b[0m \u001b[0mtransformations\u001b[0m\u001b[0;34m=\u001b[0m\u001b[0mtransformations\u001b[0m\u001b[0;34m,\u001b[0m \u001b[0mevaluate\u001b[0m\u001b[0;34m=\u001b[0m\u001b[0mevaluate\u001b[0m\u001b[0;34m)\u001b[0m\u001b[0;34m\u001b[0m\u001b[0;34m\u001b[0m\u001b[0m\n\u001b[0m\u001b[1;32m    407\u001b[0m     \u001b[0;32mexcept\u001b[0m \u001b[0;34m(\u001b[0m\u001b[0mTokenError\u001b[0m\u001b[0;34m,\u001b[0m \u001b[0mSyntaxError\u001b[0m\u001b[0;34m)\u001b[0m \u001b[0;32mas\u001b[0m \u001b[0mexc\u001b[0m\u001b[0;34m:\u001b[0m\u001b[0;34m\u001b[0m\u001b[0;34m\u001b[0m\u001b[0m\n\u001b[1;32m    408\u001b[0m         \u001b[0;32mraise\u001b[0m \u001b[0mSympifyError\u001b[0m\u001b[0;34m(\u001b[0m\u001b[0;34m'could not parse %r'\u001b[0m \u001b[0;34m%\u001b[0m \u001b[0ma\u001b[0m\u001b[0;34m,\u001b[0m \u001b[0mexc\u001b[0m\u001b[0;34m)\u001b[0m\u001b[0;34m\u001b[0m\u001b[0;34m\u001b[0m\u001b[0m\n",
      "\u001b[0;32m/usr/local/lib/python3.6/dist-packages/sympy/parsing/sympy_parser.py\u001b[0m in \u001b[0;36mparse_expr\u001b[0;34m(s, local_dict, transformations, global_dict, evaluate)\u001b[0m\n\u001b[1;32m   1006\u001b[0m         \u001b[0mcode\u001b[0m \u001b[0;34m=\u001b[0m \u001b[0mcompile\u001b[0m\u001b[0;34m(\u001b[0m\u001b[0mevaluateFalse\u001b[0m\u001b[0;34m(\u001b[0m\u001b[0mcode\u001b[0m\u001b[0;34m)\u001b[0m\u001b[0;34m,\u001b[0m \u001b[0;34m'<string>'\u001b[0m\u001b[0;34m,\u001b[0m \u001b[0;34m'eval'\u001b[0m\u001b[0;34m)\u001b[0m\u001b[0;34m\u001b[0m\u001b[0;34m\u001b[0m\u001b[0m\n\u001b[1;32m   1007\u001b[0m \u001b[0;34m\u001b[0m\u001b[0m\n\u001b[0;32m-> 1008\u001b[0;31m     \u001b[0;32mreturn\u001b[0m \u001b[0meval_expr\u001b[0m\u001b[0;34m(\u001b[0m\u001b[0mcode\u001b[0m\u001b[0;34m,\u001b[0m \u001b[0mlocal_dict\u001b[0m\u001b[0;34m,\u001b[0m \u001b[0mglobal_dict\u001b[0m\u001b[0;34m)\u001b[0m\u001b[0;34m\u001b[0m\u001b[0;34m\u001b[0m\u001b[0m\n\u001b[0m\u001b[1;32m   1009\u001b[0m \u001b[0;34m\u001b[0m\u001b[0m\n\u001b[1;32m   1010\u001b[0m \u001b[0;34m\u001b[0m\u001b[0m\n",
      "\u001b[0;32m/usr/local/lib/python3.6/dist-packages/sympy/parsing/sympy_parser.py\u001b[0m in \u001b[0;36meval_expr\u001b[0;34m(code, local_dict, global_dict)\u001b[0m\n\u001b[1;32m    901\u001b[0m     \"\"\"\n\u001b[1;32m    902\u001b[0m     expr = eval(\n\u001b[0;32m--> 903\u001b[0;31m         code, global_dict, local_dict)  # take local objects in preference\n\u001b[0m\u001b[1;32m    904\u001b[0m \u001b[0;34m\u001b[0m\u001b[0m\n\u001b[1;32m    905\u001b[0m     \u001b[0;32mreturn\u001b[0m \u001b[0mexpr\u001b[0m\u001b[0;34m\u001b[0m\u001b[0;34m\u001b[0m\u001b[0m\n",
      "\u001b[0;32m<string>\u001b[0m in \u001b[0;36m<module>\u001b[0;34m\u001b[0m\n",
      "\u001b[0;31mTypeError\u001b[0m: 'Symbol' object is not subscriptable"
     ]
    }
   ],
   "source": [
    "sympy.latex(sympy.sympify(eqin))"
   ]
  },
  {
   "cell_type": "code",
   "execution_count": 116,
   "metadata": {},
   "outputs": [
    {
     "data": {
      "text/latex": [
       "$\\displaystyle \\frac{2 var_{0} - var_{1}}{var_{2} + \\sin{\\left(var_{1} \\right)} + \\frac{\\tan{\\left(var_{3} \\right)}}{\\sin{\\left(var_{4} \\right)}}}$"
      ],
      "text/plain": [
       "(2*var0 - var1)/(var2 + sin(var1) + tan(var3)/sin(var4))"
      ]
     },
     "execution_count": 116,
     "metadata": {},
     "output_type": "execute_result"
    }
   ],
   "source": [
    "(sympy.sympify(proto_eq_variablename))"
   ]
  },
  {
   "cell_type": "code",
   "execution_count": 117,
   "metadata": {},
   "outputs": [
    {
     "name": "stdout",
     "output_type": "stream",
     "text": [
      "var_{0} \\mathrm{ave(420,480)} \n",
      " \\frac{2 \\mathrm{ave(420,480)} - var_{1}}{var_{2} + \\sin{\\left(var_{1} \\right)} + \\frac{\\tan{\\left(var_{3} \\right)}}{\\sin{\\left(var_{4} \\right)}}}\n",
      "var_{1} \\mathrm{ave(490,780)} \n",
      " \\frac{2 \\mathrm{ave(420,480)} - \\mathrm{ave(490,780)}}{var_{2} + \\sin{\\left(\\mathrm{ave(490,780)} \\right)} + \\frac{\\tan{\\left(var_{3} \\right)}}{\\sin{\\left(var_{4} \\right)}}}\n",
      "var_{2} \\mathrm{max(666,700)} \n",
      " \\frac{2 \\mathrm{ave(420,480)} - \\mathrm{ave(490,780)}}{\\mathrm{max(666,700)} + \\sin{\\left(\\mathrm{ave(490,780)} \\right)} + \\frac{\\tan{\\left(var_{3} \\right)}}{\\sin{\\left(var_{4} \\right)}}}\n",
      "var_{3} \\mathrm{ave(500,600)} \n",
      " \\frac{2 \\mathrm{ave(420,480)} - \\mathrm{ave(490,780)}}{\\mathrm{max(666,700)} + \\sin{\\left(\\mathrm{ave(490,780)} \\right)} + \\frac{\\tan{\\left(\\mathrm{ave(500,600)} \\right)}}{\\sin{\\left(var_{4} \\right)}}}\n",
      "var_{4} \\mathrm{min(650,700)} \n",
      " \\frac{2 \\mathrm{ave(420,480)} - \\mathrm{ave(490,780)}}{\\mathrm{max(666,700)} + \\sin{\\left(\\mathrm{ave(490,780)} \\right)} + \\frac{\\tan{\\left(\\mathrm{ave(500,600)} \\right)}}{\\sin{\\left(\\mathrm{min(650,700)} \\right)}}}\n"
     ]
    },
    {
     "data": {
      "image/png": "[encoded data removed]",
      "text/plain": [
       "<Figure size 432x288 with 1 Axes>"
      ]
     },
     "metadata": {
      "needs_background": "light"
     },
     "output_type": "display_data"
    }
   ],
   "source": [
    "s = sympy.latex(sympy.sympify(proto_eq_variablename))\n",
    "asdf = s\n",
    "for i in range(len(variable)):\n",
    "    asdf = asdf.replace(r'{}'.format(variable[i].varNameLatex), r'{}'.format(variable[i].latex))\n",
    "    print(r'{}'.format(variable[i].varNameLatex), r'{}'.format(variable[i].latex), '\\n', asdf)\n",
    "imager(\"$\" + asdf + '$')"
   ]
  },
  {
   "cell_type": "code",
   "execution_count": 47,
   "metadata": {},
   "outputs": [
    {
     "data": {
      "text/plain": [
       "'\\\\frac{2 var_{0} - var_{1}}{var_{2} + \\\\sin{\\\\left(var_{1} \\\\right)} + \\\\frac{\\\\tan{\\\\left(var_{3} \\\\right)}}{\\\\sin{\\\\left(var_{4} \\\\right)}}}'"
      ]
     },
     "execution_count": 47,
     "metadata": {},
     "output_type": "execute_result"
    }
   ],
   "source": [
    "srepl"
   ]
  },
  {
   "cell_type": "code",
   "execution_count": 56,
   "metadata": {},
   "outputs": [
    {
     "data": {
      "text/plain": [
       "True"
      ]
     },
     "execution_count": 56,
     "metadata": {},
     "output_type": "execute_result"
    }
   ],
   "source": [
    "r'{}'.format(variable[0].varNameLatex) in "
   ]
  },
  {
   "cell_type": "code",
   "execution_count": 83,
   "metadata": {},
   "outputs": [
    {
     "data": {
      "text/plain": [
       "'\\\\frac{2 var_{0} - var_{1}}{var_{2} + \\\\sin{\\\\left(var_{1} \\\\right)} + \\\\frac{\\\\tan{\\\\left(var_{3} \\\\right)}}{\\\\sin{\\\\left(var_{4} \\\\right)}}}'"
      ]
     },
     "execution_count": 83,
     "metadata": {},
     "output_type": "execute_result"
    }
   ],
   "source": [
    "ss = str(s)\n",
    "\n",
    "ss"
   ]
  },
  {
   "cell_type": "code",
   "execution_count": 86,
   "metadata": {},
   "outputs": [
    {
     "name": "stdout",
     "output_type": "stream",
     "text": [
      "\\frac{2 var_{0} - var_{1}}{var_{2} + \\sin{\\left(var_{1} \\right)} + \\frac{\\tan{\\left(var_{3} \\right)}}{\\sin{\\left(var_{4} \\right)}}}\n"
     ]
    }
   ],
   "source": [
    "ss.replace('var', '\\mathrm{Ave(420,480)}')\n",
    "print(ss)"
   ]
  },
  {
   "cell_type": "code",
   "execution_count": null,
   "metadata": {},
   "outputs": [],
   "source": [
    "variable[0].varNameLatex ==/ "
   ]
  },
  {
   "cell_type": "code",
   "execution_count": 96,
   "metadata": {},
   "outputs": [
    {
     "data": {
      "text/plain": [
       "' \\\\frac{2 var_{0} - var_{1}}{var_{2} + \\\\sin{\\\\left(var_{1} \\\\right)} + \\\\frac{\\\\tan{\\\\left(var_{3} \\\\right)}}{\\\\sin{\\\\left(\\\\mathrm{Ave(650,700)} \\\\right)}}}'"
      ]
     },
     "execution_count": 96,
     "metadata": {},
     "output_type": "execute_result"
    }
   ],
   "source": [
    "r\" \\frac{2 var_{0} - var_{1}}{var_{2} + \\sin{\\left(var_{1} \\right)} + \\frac{\\tan{\\left(var_{3} \\right)}}{\\sin{\\left(var_{4} \\right)}}}\".replace(r\"var_{4}\", r\"\\mathrm{Ave(650,700)}\")\n"
   ]
  },
  {
   "cell_type": "code",
   "execution_count": 97,
   "metadata": {},
   "outputs": [
    {
     "data": {
      "image/png": "[encoded data removed]",
      "text/plain": [
       "<Figure size 432x288 with 1 Axes>"
      ]
     },
     "metadata": {
      "needs_background": "light"
     },
     "output_type": "display_data"
    }
   ],
   "source": [
    "imager('$ \\\\frac{2 var_{0} - var_{1}}{var_{2} + \\\\sin{\\\\left(var_{1} \\\\right)} + \\\\frac{\\\\tan{\\\\left(var_{3} \\\\right)}}{\\\\sin{\\\\left(\\\\mathrm{Ave(650,700)} \\\\right)}}}$'\n",
    ")"
   ]
  },
  {
   "cell_type": "code",
   "execution_count": 99,
   "metadata": {},
   "outputs": [
    {
     "data": {
      "text/plain": [
       "'\\\\frac{2 HI - var_{1}}{var_{2} + \\\\sin{\\\\left(var_{1} \\\\right)} + \\\\frac{\\\\tan{\\\\left(var_{3} \\\\right)}}{\\\\sin{\\\\left(var_{4} \\\\right)}}}'"
      ]
     },
     "execution_count": 99,
     "metadata": {},
     "output_type": "execute_result"
    }
   ],
   "source": [
    "s.replace('var_{0}', 'HI')"
   ]
  },
  {
   "cell_type": "code",
   "execution_count": 100,
   "metadata": {},
   "outputs": [
    {
     "data": {
      "text/plain": [
       "'\\\\frac{2 var_{0} - var_{1}}{var_{2} + \\\\sin{\\\\left(var_{1} \\\\right)} + \\\\frac{\\\\tan{\\\\left(var_{3} \\\\right)}}{\\\\sin{\\\\left(var_{4} \\\\right)}}}'"
      ]
     },
     "execution_count": 100,
     "metadata": {},
     "output_type": "execute_result"
    }
   ],
   "source": [
    "s"
   ]
  },
  {
   "cell_type": "code",
   "execution_count": null,
   "metadata": {},
   "outputs": [],
   "source": []
  }
 ],
 "metadata": {
  "_draft": {
   "nbviewer_url": "https://gist.github.com/652079c833525d4089c7810aae8633ac"
  },
  "anaconda-cloud": {
   "environment": null,
   "summary": "Przyklad vpytona "
  },
  "gist": {
   "data": {
    "description": "Projects/abinitio-workshop/notebooks/Forces.ipynb",
    "public": true
   },
   "id": "652079c833525d4089c7810aae8633ac"
  },
  "hide_input": false,
  "kernelspec": {
   "display_name": "VPython",
   "language": "python",
   "name": "vpython"
  },
  "language_info": {
   "codemirror_mode": {
    "name": "ipython",
    "version": 3
   },
   "file_extension": ".py",
   "mimetype": "text/x-python",
   "name": "python",
   "nbconvert_exporter": "python",
   "pygments_lexer": "ipython3",
   "version": "3.6.9"
  },
  "varInspector": {
   "cols": {
    "lenName": 16,
    "lenType": 16,
    "lenVar": 40
   },
   "kernels_config": {
    "python": {
     "delete_cmd_postfix": "",
     "delete_cmd_prefix": "del ",
     "library": "var_list.py",
     "varRefreshCmd": "print(var_dic_list())"
    },
    "r": {
     "delete_cmd_postfix": ") ",
     "delete_cmd_prefix": "rm(",
     "library": "var_list.r",
     "varRefreshCmd": "cat(var_dic_list()) "
    }
   },
   "types_to_exclude": [
    "module",
    "function",
    "builtin_function_or_method",
    "instance",
    "_Feature"
   ],
   "window_display": false
  }
 },
 "nbformat": 4,
 "nbformat_minor": 2
}
